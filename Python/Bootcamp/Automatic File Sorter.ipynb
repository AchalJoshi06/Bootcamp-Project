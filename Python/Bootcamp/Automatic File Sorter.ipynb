{
 "cells": [
  {
   "cell_type": "markdown",
   "id": "3ade6b87-5842-4767-b3f2-7c56a56dd92f",
   "metadata": {},
   "source": [
    "# Automatic File Sorter in File Explorer"
   ]
  },
  {
   "cell_type": "code",
   "execution_count": 2,
   "id": "107f54a5-f429-4996-baae-1a6f929a4a50",
   "metadata": {},
   "outputs": [],
   "source": [
    "import os,shutil"
   ]
  },
  {
   "cell_type": "code",
   "execution_count": 11,
   "id": "180dcd5f-88d4-4662-bd96-f7cf649598ca",
   "metadata": {},
   "outputs": [],
   "source": [
    "path=r\"D:/Sorting Files/\""
   ]
  },
  {
   "cell_type": "code",
   "execution_count": 41,
   "id": "08f62bf8-a73d-4cc1-91b4-6504a801c007",
   "metadata": {},
   "outputs": [],
   "source": [
    "file_names=os.listdir(path)"
   ]
  },
  {
   "cell_type": "code",
   "execution_count": 42,
   "id": "c5c4575e-2c91-438a-8159-f3d7c35e0f3f",
   "metadata": {},
   "outputs": [
    {
     "name": "stdout",
     "output_type": "stream",
     "text": [
      "Already exists!\n",
      "Already exists!\n",
      "Already exists!\n"
     ]
    }
   ],
   "source": [
    "\n",
    "folder_names = ['Excel Files', 'Image Files', 'txt Files']\n",
    "\n",
    "for folder in range(0,3):\n",
    "\n",
    "    if  not os.path.exists(path + folder_names[folder]):\n",
    "            print(path + folder_names[folder])\n",
    "            os.makedirs(path+folder_names[folder])\n",
    "    else:\n",
    "            print(f\"Already exists!\")\n",
    "    \n",
    "    \n"
   ]
  },
  {
   "cell_type": "code",
   "execution_count": null,
   "id": "8ad2a5a6-52fe-4b98-abeb-19d0f551e12e",
   "metadata": {},
   "outputs": [],
   "source": [
    "for file in file_names:\n",
    "\n",
    "    ext = os.path.splitext(file)\n",
    "    if any(ext in file.lower() for ext in [\".xlsx\", \".xls\", \".csv\"]) and not os.path.exists(path + \"Excel Files/\" + file):\n",
    "        shutil.move(path + file , path + \"Excel Files/\" + file)\n",
    "\n",
    "    elif \".txt\" in file.lower() and not os.path.exists(path + \"txt Files/\" + file):\n",
    "        shutil.move(path + file , path + \"txt Files/\" + file)\n",
    "\n",
    "    elif any(ext in file.lower() for ext in [\".jpg\", \".jpeg\", \".png\"]) and not os.path.exists(path + \"Image Files/\" + file):\n",
    "        shutil.move(path + file , path + \"Image Files/\" + file)\n",
    "    else :\n",
    "        print(\"All files are moved to respective folder or file doesn't exists\")"
   ]
  },
  {
   "cell_type": "code",
   "execution_count": null,
   "id": "8076065b-d483-493a-b85d-76e68914fbba",
   "metadata": {},
   "outputs": [],
   "source": []
  },
  {
   "cell_type": "code",
   "execution_count": null,
   "id": "02bff231-1c13-4b3d-9384-d21febc66adc",
   "metadata": {},
   "outputs": [],
   "source": []
  },
  {
   "cell_type": "code",
   "execution_count": null,
   "id": "da65a86f-abaa-4723-9d5b-3c427e0e879c",
   "metadata": {},
   "outputs": [],
   "source": []
  },
  {
   "cell_type": "code",
   "execution_count": null,
   "id": "8c5364f7-4e1b-4a5a-83d0-72f5bf01d04b",
   "metadata": {},
   "outputs": [],
   "source": []
  },
  {
   "cell_type": "code",
   "execution_count": null,
   "id": "10dd6eff-4bd0-4004-a55b-5cd074bb5759",
   "metadata": {},
   "outputs": [],
   "source": []
  },
  {
   "cell_type": "code",
   "execution_count": null,
   "id": "8e43e08e-5328-437b-af91-4d0570a9f41c",
   "metadata": {},
   "outputs": [],
   "source": []
  },
  {
   "cell_type": "code",
   "execution_count": null,
   "id": "6ca92855-b201-4b2e-b357-1dac3265302e",
   "metadata": {},
   "outputs": [],
   "source": []
  },
  {
   "cell_type": "code",
   "execution_count": null,
   "id": "d5482bb5-32e1-4e89-8c41-98f9b66bbf10",
   "metadata": {},
   "outputs": [],
   "source": []
  }
 ],
 "metadata": {
  "kernelspec": {
   "display_name": "Python [conda env:base] *",
   "language": "python",
   "name": "conda-base-py"
  },
  "language_info": {
   "codemirror_mode": {
    "name": "ipython",
    "version": 3
   },
   "file_extension": ".py",
   "mimetype": "text/x-python",
   "name": "python",
   "nbconvert_exporter": "python",
   "pygments_lexer": "ipython3",
   "version": "3.13.5"
  }
 },
 "nbformat": 4,
 "nbformat_minor": 5
}
