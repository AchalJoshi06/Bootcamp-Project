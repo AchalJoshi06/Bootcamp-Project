{
 "cells": [
  {
   "cell_type": "code",
   "execution_count": null,
   "id": "2abf7353-cd30-4f86-b24e-6a1226faf8af",
   "metadata": {},
   "outputs": [],
   "source": []
  },
  {
   "cell_type": "code",
   "execution_count": null,
   "id": "36fa3030-6e63-4ff4-b1ea-bc5d5c9cfeb7",
   "metadata": {},
   "outputs": [],
   "source": [
    "#BMI=(weight in kg ) * (height in cm)"
   ]
  },
  {
   "cell_type": "code",
   "execution_count": 17,
   "id": "4e39f616-b628-4397-b884-b47e8105c145",
   "metadata": {},
   "outputs": [
    {
     "name": "stdin",
     "output_type": "stream",
     "text": [
      "Enter your name : Ace\n"
     ]
    }
   ],
   "source": [
    "name=input(\"Enter your name :\")"
   ]
  },
  {
   "cell_type": "code",
   "execution_count": 21,
   "id": "974d9532-794b-43cb-aa88-96c02e3d60a4",
   "metadata": {},
   "outputs": [
    {
     "name": "stdin",
     "output_type": "stream",
     "text": [
      "Enter your weight (KG) : 67\n",
      "Enter your hight(cm) : 180\n"
     ]
    },
    {
     "name": "stdout",
     "output_type": "stream",
     "text": [
      "20.679012345679013\n"
     ]
    }
   ],
   "source": [
    "weight=float(input(\"Enter your weight (KG) :\"))\n",
    "height=float(input(\"Enter your hight(cm) :\"))\n",
    "\n",
    "BMI=(weight)*(100)*(100)/(height*height)\n",
    "\n",
    "print(BMI)"
   ]
  },
  {
   "cell_type": "code",
   "execution_count": 23,
   "id": "99d1b63a-5b74-49da-bfe8-8937d485677f",
   "metadata": {},
   "outputs": [
    {
     "name": "stdout",
     "output_type": "stream",
     "text": [
      "Ace you are Normal Weight\n"
     ]
    }
   ],
   "source": [
    "if (BMI>0):\n",
    "    if(BMI<18.5):\n",
    "        print(name,\"you are Underweight\")\n",
    "    elif(BMI<=24.9):\n",
    "        print(name,\"you are Normal Weight\")\n",
    "    elif(BMI<=29.9):\n",
    "        print(name,\"you are Overweight\")\n",
    "    elif(BMI<=34.9):\n",
    "        print(name,\"you are Obesed\")\n",
    "    elif(BMI<=39.9):\n",
    "        print(name,\"you are Severely Obesed\")\n",
    "    elif(BMI>=40):\n",
    "        print(name,\"you are Morbidly Obesed\")\n",
    "else:\n",
    "    print(name,\"Please Enter Valid Values!!!!\")"
   ]
  },
  {
   "cell_type": "code",
   "execution_count": null,
   "id": "8e226413-ab62-495d-8693-65607c3f4035",
   "metadata": {},
   "outputs": [],
   "source": []
  },
  {
   "cell_type": "code",
   "execution_count": null,
   "id": "c33e682c-6a37-4bd9-ba62-bdae361ae32e",
   "metadata": {},
   "outputs": [],
   "source": []
  },
  {
   "cell_type": "code",
   "execution_count": null,
   "id": "e911c49f-abc9-4818-8a7b-d4bd1731f8ed",
   "metadata": {},
   "outputs": [],
   "source": []
  },
  {
   "cell_type": "code",
   "execution_count": null,
   "id": "f8d710d3-4afd-4417-b4d1-abb11f6dfe6f",
   "metadata": {},
   "outputs": [],
   "source": []
  },
  {
   "cell_type": "code",
   "execution_count": null,
   "id": "a66790f4-d925-4bcb-a37b-16ffce155aac",
   "metadata": {},
   "outputs": [],
   "source": []
  },
  {
   "cell_type": "code",
   "execution_count": null,
   "id": "7f09e737-41a8-4c02-ab4c-15e5035688f5",
   "metadata": {},
   "outputs": [],
   "source": []
  },
  {
   "cell_type": "code",
   "execution_count": null,
   "id": "fcbe350d-0e3e-4c52-b6ac-e037a1e4ea97",
   "metadata": {},
   "outputs": [],
   "source": []
  },
  {
   "cell_type": "code",
   "execution_count": null,
   "id": "0f94112f-b298-499a-b927-a88bff1fa363",
   "metadata": {},
   "outputs": [],
   "source": []
  },
  {
   "cell_type": "code",
   "execution_count": null,
   "id": "e3474b94-0766-41d0-8cc0-6df3a178b97f",
   "metadata": {},
   "outputs": [],
   "source": []
  },
  {
   "cell_type": "code",
   "execution_count": null,
   "id": "952abe14-6c02-4a5f-97f5-3810427de218",
   "metadata": {},
   "outputs": [],
   "source": []
  },
  {
   "cell_type": "code",
   "execution_count": null,
   "id": "c02d5cf4-6918-45e7-8d03-f08d6bf16dd4",
   "metadata": {},
   "outputs": [],
   "source": []
  },
  {
   "cell_type": "code",
   "execution_count": null,
   "id": "b839d8a1-423c-4821-951c-2c32be640b40",
   "metadata": {},
   "outputs": [],
   "source": []
  },
  {
   "cell_type": "code",
   "execution_count": null,
   "id": "ef010091-ce3c-48ec-8d23-86149bdad27d",
   "metadata": {},
   "outputs": [],
   "source": []
  },
  {
   "cell_type": "code",
   "execution_count": null,
   "id": "a0c5bed0-835e-4bda-b0be-af8725767b88",
   "metadata": {},
   "outputs": [],
   "source": []
  },
  {
   "cell_type": "code",
   "execution_count": null,
   "id": "60aa1dc2-aed7-4035-81be-8b1de5dd3dc6",
   "metadata": {},
   "outputs": [],
   "source": []
  },
  {
   "cell_type": "code",
   "execution_count": null,
   "id": "9c062440-7082-4e15-8ff9-74ce2c1d1aa2",
   "metadata": {},
   "outputs": [],
   "source": []
  },
  {
   "cell_type": "code",
   "execution_count": null,
   "id": "8fbd40fc-6bec-4c0e-8e58-194de31511b5",
   "metadata": {},
   "outputs": [],
   "source": []
  },
  {
   "cell_type": "code",
   "execution_count": null,
   "id": "6727c0ad-88b5-4531-bf63-c3c876bbfc92",
   "metadata": {},
   "outputs": [],
   "source": []
  },
  {
   "cell_type": "code",
   "execution_count": null,
   "id": "72ca127a-1fbb-4b28-ae4b-9273b78a3486",
   "metadata": {},
   "outputs": [],
   "source": []
  },
  {
   "cell_type": "code",
   "execution_count": null,
   "id": "6374c54a-4d20-42e5-bc1e-5235b631169b",
   "metadata": {},
   "outputs": [],
   "source": []
  },
  {
   "cell_type": "code",
   "execution_count": null,
   "id": "848b1f70-6032-4fc5-aeb9-11c194c8b7c1",
   "metadata": {},
   "outputs": [],
   "source": []
  },
  {
   "cell_type": "code",
   "execution_count": null,
   "id": "707e3661-376c-48c3-811e-63291952a9a1",
   "metadata": {},
   "outputs": [],
   "source": []
  }
 ],
 "metadata": {
  "kernelspec": {
   "display_name": "Python [conda env:base] *",
   "language": "python",
   "name": "conda-base-py"
  },
  "language_info": {
   "codemirror_mode": {
    "name": "ipython",
    "version": 3
   },
   "file_extension": ".py",
   "mimetype": "text/x-python",
   "name": "python",
   "nbconvert_exporter": "python",
   "pygments_lexer": "ipython3",
   "version": "3.13.5"
  }
 },
 "nbformat": 4,
 "nbformat_minor": 5
}
