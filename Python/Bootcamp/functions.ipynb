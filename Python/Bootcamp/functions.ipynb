{
 "cells": [
  {
   "cell_type": "markdown",
   "id": "219494f5-4339-43f9-8c57-1dd70d7ce4c2",
   "metadata": {},
   "source": [
    "# FUNCTIONS"
   ]
  },
  {
   "cell_type": "code",
   "execution_count": 3,
   "id": "fc0f3cd2-7ad4-449c-9723-a26dfe9d3c1a",
   "metadata": {},
   "outputs": [],
   "source": [
    "def first_fun():\n",
    "    print(\"First Function\")"
   ]
  },
  {
   "cell_type": "code",
   "execution_count": 5,
   "id": "babd4127-3d09-42b9-abc0-4ef62a5b3d9a",
   "metadata": {},
   "outputs": [
    {
     "name": "stdout",
     "output_type": "stream",
     "text": [
      "First Function\n"
     ]
    }
   ],
   "source": [
    "first_fun()\n"
   ]
  },
  {
   "cell_type": "code",
   "execution_count": 10,
   "id": "9f0e0170-00cc-4748-9264-570a5d397bd7",
   "metadata": {},
   "outputs": [],
   "source": [
    "def mul():\n",
    "    a=int(input(\"Enter the first number :\"))\n",
    "    b=int(input(\"Enter the Second number :\"))\n",
    "    return a*b\n",
    "    "
   ]
  },
  {
   "cell_type": "code",
   "execution_count": 11,
   "id": "20d1554d-965e-41d4-bc9d-e25eb65de6d6",
   "metadata": {},
   "outputs": [
    {
     "name": "stdin",
     "output_type": "stream",
     "text": [
      "Enter the first number : 4\n",
      "Enter the Second number : 5\n"
     ]
    },
    {
     "data": {
      "text/plain": [
       "20"
      ]
     },
     "execution_count": 11,
     "metadata": {},
     "output_type": "execute_result"
    }
   ],
   "source": [
    "mul()"
   ]
  },
  {
   "cell_type": "code",
   "execution_count": null,
   "id": "79cc5e2c-5b72-4728-ba23-f256881df274",
   "metadata": {},
   "outputs": [],
   "source": []
  },
  {
   "cell_type": "code",
   "execution_count": 16,
   "id": "48d182f4-9113-4c46-b5f5-151d5812398b",
   "metadata": {},
   "outputs": [],
   "source": [
    "arg_tuple=(4,3,8,2,5,4,3,7)\n",
    "\n",
    "def unknown_args(*args):  #when you don't know amount of args you need to use just do\"*args\"\n",
    "    print(args[0]*args[1])"
   ]
  },
  {
   "cell_type": "code",
   "execution_count": 17,
   "id": "b1529e14-7393-4d90-9360-6ac353c53c7e",
   "metadata": {},
   "outputs": [
    {
     "name": "stdout",
     "output_type": "stream",
     "text": [
      "12\n"
     ]
    }
   ],
   "source": [
    "unknown_args(*arg_tuple)"
   ]
  },
  {
   "cell_type": "code",
   "execution_count": 29,
   "id": "5b78a962-6e01-44fd-95f9-3a0ae6eb893f",
   "metadata": {},
   "outputs": [],
   "source": [
    "def kwargs(**number):\n",
    "    print('Number :'+ number['integer'] +' || '+'Number 2 :'+ number['integer2'])\n",
    "    "
   ]
  },
  {
   "cell_type": "code",
   "execution_count": 30,
   "id": "97d0927d-1838-4ee2-b4c3-c91e1e6b3c7d",
   "metadata": {},
   "outputs": [
    {
     "name": "stdout",
     "output_type": "stream",
     "text": [
      "Number :2300 || Number 2 :3200\n"
     ]
    }
   ],
   "source": [
    "kwargs(integer='2300',integer2='3200')"
   ]
  },
  {
   "cell_type": "code",
   "execution_count": null,
   "id": "c42c86db-afa1-4775-a8fb-10de1da97ece",
   "metadata": {},
   "outputs": [],
   "source": []
  },
  {
   "cell_type": "code",
   "execution_count": null,
   "id": "27575420-7192-49c5-abd8-48e721837504",
   "metadata": {},
   "outputs": [],
   "source": []
  },
  {
   "cell_type": "code",
   "execution_count": null,
   "id": "aa1de015-df59-4e60-8c92-493feaf215d9",
   "metadata": {},
   "outputs": [],
   "source": []
  },
  {
   "cell_type": "code",
   "execution_count": null,
   "id": "2edafa07-a50c-40fd-a5ad-37dba5f25d21",
   "metadata": {},
   "outputs": [],
   "source": []
  },
  {
   "cell_type": "markdown",
   "id": "3cf2115d-a11b-45db-9971-543c87545b43",
   "metadata": {},
   "source": [
    "# Coverting Data Type"
   ]
  },
  {
   "cell_type": "code",
   "execution_count": null,
   "id": "825af510-be36-4f52-8284-8b135b0691bd",
   "metadata": {},
   "outputs": [],
   "source": []
  },
  {
   "cell_type": "code",
   "execution_count": 31,
   "id": "82e7681e-2456-49bd-8def-e6b272e5cc8b",
   "metadata": {},
   "outputs": [
    {
     "data": {
      "text/plain": [
       "int"
      ]
     },
     "execution_count": 31,
     "metadata": {},
     "output_type": "execute_result"
    }
   ],
   "source": [
    "numint=7\n",
    "type(numint)"
   ]
  },
  {
   "cell_type": "code",
   "execution_count": 32,
   "id": "725b84e7-3730-43d0-8e1b-4187a6b7b032",
   "metadata": {},
   "outputs": [
    {
     "data": {
      "text/plain": [
       "str"
      ]
     },
     "execution_count": 32,
     "metadata": {},
     "output_type": "execute_result"
    }
   ],
   "source": [
    "numstr='7'\n",
    "type(numstr)"
   ]
  },
  {
   "cell_type": "code",
   "execution_count": 35,
   "id": "b5c191a5-29bb-44be-afec-0ff87632c594",
   "metadata": {},
   "outputs": [
    {
     "name": "stdout",
     "output_type": "stream",
     "text": [
      "77\n"
     ]
    }
   ],
   "source": [
    "num_sum=str(numint)+numstr\n",
    "print(num_sum)"
   ]
  },
  {
   "cell_type": "code",
   "execution_count": 36,
   "id": "6717319f-c1c6-4c5a-8ec8-15d2fb59775a",
   "metadata": {},
   "outputs": [
    {
     "name": "stdout",
     "output_type": "stream",
     "text": [
      "14\n"
     ]
    }
   ],
   "source": [
    "num_sum=(numint)+int(numstr)\n",
    "print(num_sum)"
   ]
  },
  {
   "cell_type": "code",
   "execution_count": 37,
   "id": "7d1f81ea-40bb-43b0-8046-6337816f42fd",
   "metadata": {},
   "outputs": [],
   "source": [
    "#you can do  same thing to list , tuples ,set and dicti."
   ]
  },
  {
   "cell_type": "code",
   "execution_count": 40,
   "id": "e611f380-b289-45e6-8577-d81d9538325d",
   "metadata": {},
   "outputs": [],
   "source": [
    "string='I wanna go to USA'"
   ]
  },
  {
   "cell_type": "code",
   "execution_count": 41,
   "id": "5d994afb-61ef-4b2e-8c0e-e940e66bbb07",
   "metadata": {},
   "outputs": [
    {
     "data": {
      "text/plain": [
       "{' ', 'A', 'I', 'S', 'U', 'a', 'g', 'n', 'o', 't', 'w'}"
      ]
     },
     "execution_count": 41,
     "metadata": {},
     "output_type": "execute_result"
    }
   ],
   "source": [
    "set(string)"
   ]
  },
  {
   "cell_type": "code",
   "execution_count": null,
   "id": "2d343be9-d263-4194-84fd-2667fd1fb432",
   "metadata": {},
   "outputs": [],
   "source": []
  }
 ],
 "metadata": {
  "kernelspec": {
   "display_name": "Python [conda env:base] *",
   "language": "python",
   "name": "conda-base-py"
  },
  "language_info": {
   "codemirror_mode": {
    "name": "ipython",
    "version": 3
   },
   "file_extension": ".py",
   "mimetype": "text/x-python",
   "name": "python",
   "nbconvert_exporter": "python",
   "pygments_lexer": "ipython3",
   "version": "3.13.5"
  }
 },
 "nbformat": 4,
 "nbformat_minor": 5
}
