{
 "cells": [
  {
   "cell_type": "code",
   "execution_count": 2,
   "id": "527fa931-af72-4efd-b982-122f6a1cb971",
   "metadata": {},
   "outputs": [],
   "source": [
    "from bs4 import BeautifulSoup\n",
    "import requests\n",
    "import pandas as pd"
   ]
  },
  {
   "cell_type": "code",
   "execution_count": 3,
   "id": "cab2e35f-5f96-4d1c-b3f9-011d693afe76",
   "metadata": {},
   "outputs": [],
   "source": [
    "url= 'https://webscraper.io/test-sites/tables/tables-multiple-header-rows'\n",
    "page = requests.get(url)\n",
    "soup = BeautifulSoup(page.text,'html')"
   ]
  },
  {
   "cell_type": "code",
   "execution_count": 4,
   "id": "2cfa312a-9b60-4d13-a35d-69a6e51f8070",
   "metadata": {
    "collapsed": true,
    "jupyter": {
     "outputs_hidden": true
    }
   },
   "outputs": [
    {
     "data": {
      "text/plain": [
       "<!DOCTYPE html>\n",
       "<html lang=\"en\">\n",
       "<head>\n",
       "<!-- Google Tag Manager -->\n",
       "<script nonce=\"nlh15SIWIKiUTEteAxUKRDEjwGJLGyr6\">(function (w, d, s, l, i) {\n",
       "\t\tw[l] = w[l] || [];\n",
       "\t\tw[l].push({\n",
       "\t\t\t'gtm.start':\n",
       "\t\t\t\tnew Date().getTime(), event: 'gtm.js'\n",
       "\t\t});\n",
       "\t\tvar f = d.getElementsByTagName(s)[0],\n",
       "\t\t\tj = d.createElement(s), dl = l != 'dataLayer' ? '&l=' + l : '';\n",
       "\t\tj.async = true;\n",
       "\t\tj.src =\n",
       "\t\t\t'https://www.googletagmanager.com/gtm.js?id=' + i + dl;\n",
       "\t\tf.parentNode.insertBefore(j, f);\n",
       "\t})(window, document, 'script', 'dataLayer', 'GTM-NVFPDWB');</script>\n",
       "<!-- End Google Tag Manager -->\n",
       "<title>Table Playground | Web Scraper Test Sites</title>\n",
       "<meta charset=\"utf-8\"/>\n",
       "<meta content=\"IE=edge,chrome=1\" http-equiv=\"X-UA-Compatible\"/>\n",
       "<meta content=\"web scraping,Web Scraper,Chrome extension,Crawling,Cross platform scraper\" name=\"keywords\"/>\n",
       "<meta content=\"Test Web Scraper's features on basic table layouts. Practice extracting structured table data.\" name=\"description\"/>\n",
       "<link href=\"/favicon.png\" rel=\"icon\" sizes=\"128x128\" type=\"image/png\"/>\n",
       "<link href=\"/favicon.ico\" rel=\"icon\" sizes=\"16x16 32x32\" type=\"image/x-icon\"/>\n",
       "<link href=\"/logo-icon.png\" rel=\"apple-touch-icon\" type=\"image/png\"/>\n",
       "<link href=\"/icon.svg\" rel=\"icon\" type=\"image/svg+xml\"/>\n",
       "<meta content=\"width=device-width, initial-scale=1.0\" name=\"viewport\"/>\n",
       "<link href=\"https://fonts.googleapis.com\" rel=\"preconnect\"/>\n",
       "<link crossorigin=\"\" href=\"https://fonts.gstatic.com\" rel=\"preconnect\"/>\n",
       "<link href=\"https://fonts.googleapis.com/css2?family=Roboto:wght@400;500;600&amp;display=swap\" rel=\"stylesheet\"/>\n",
       "<link href=\"https://fonts.googleapis.com/css2?family=Montserrat:wght@300;400;500;600;700;800;900&amp;display=swap\" rel=\"stylesheet\"/>\n",
       "<link href=\"/css/app.css?id=ca31f860fbccbd771c188d697a4b91f0\" rel=\"stylesheet\"/>\n",
       "<link href=\"/css/ws-icons.font.css?id=4f2d32874e97d37b0a1411f21150732e\" rel=\"stylesheet\"/>\n",
       "<link href=\"https://webscraper.io/test-sites/tables/tables-multiple-header-rows\" rel=\"canonical\"/>\n",
       "<meta content=\"Table Playground | Web Scraper Test Sites\" property=\"og:title\"/>\n",
       "<meta content=\"Test Web Scraper's features on basic table layouts. Practice extracting structured table data.\" property=\"og:description\"/>\n",
       "<meta content=\"website\" property=\"og:type\"/>\n",
       "<meta content=\"https://webscraper.io/test-sites/tables/tables-multiple-header-rows\" property=\"og:url\"/>\n",
       "<meta content=\"https://webscraper.io/webscraper-logo-header.png\" property=\"og:image\"/>\n",
       "<script defer=\"\" src=\"/js/app.js?id=f01d2fb39b3b945d2a9d1c82d6d613da\"></script>\n",
       "</head>\n",
       "<body>\n",
       "<!-- Google Tag Manager (noscript) -->\n",
       "<noscript>\n",
       "<iframe height=\"0\" src=\"https://www.googletagmanager.com/ns.html?id=GTM-NVFPDWB\" style=\"display:none;visibility:hidden\" width=\"0\"></iframe>\n",
       "</noscript>\n",
       "<!-- End Google Tag Manager (noscript) -->\n",
       "<header class=\"navbar fixed-top navbar-expand-lg navbar-dark navbar-static svg-background\" id=\"navbar-top\" role=\"banner\">\n",
       "<div class=\"container\">\n",
       "<div class=\"navbar-header\">\n",
       "<a data-bs-target=\".side-collapse\" data-bs-target-2=\".side-collapse-container\" data-bs-toggle=\"collapse-side\">\n",
       "<button aria-controls=\"navbar\" aria-expanded=\"false\" class=\"navbar-toggler float-end collapsed\" data-bs-target=\"#navbar\" data-bs-target-2=\".side-collapse-container\" data-bs-target-3=\".side-collapse\" data-bs-toggle=\"collapse\" type=\"button\">\n",
       "<span class=\"visually-hidden\">Toggle navigation</span>\n",
       "<span class=\"icon-bar top-bar\"></span>\n",
       "<span class=\"icon-bar middle-bar\"></span>\n",
       "<span class=\"icon-bar bottom-bar\"></span>\n",
       "<span class=\"icon-bar extra-bottom-bar\"></span>\n",
       "</button>\n",
       "</a>\n",
       "<div class=\"navbar-brand\">\n",
       "<a href=\"/\"><img alt=\"Web Scraper\" src=\"/img/logo_white.svg\"/></a>\n",
       "</div>\n",
       "</div>\n",
       "<div class=\"side-collapse in\">\n",
       "<nav class=\"navbar-collapse collapse\" id=\"navbar\" role=\"navigation\">\n",
       "<ul class=\"nav navbar-nav navbar-right\">\n",
       "<li class=\"nav-item\">\n",
       "<a class=\"nav-link menuitm\" href=\"/\">\n",
       "<p>Web Scraper</p>\n",
       "<div class=\"crta\"></div>\n",
       "</a>\n",
       "</li>\n",
       "<li class=\"nav-item\">\n",
       "<a class=\"nav-link menuitm\" href=\"/cloud-scraper\" id=\"cloud-nav-link\">\n",
       "<p>Cloud Scraper</p>\n",
       "<div class=\"crta\"></div>\n",
       "</a>\n",
       "</li>\n",
       "<li class=\"nav-item\">\n",
       "<a class=\"nav-link menuitm\" href=\"/pricing\" id=\"pricing-nav-link\">\n",
       "<p>Pricing</p>\n",
       "<div class=\"crta\"></div>\n",
       "</a>\n",
       "</li>\n",
       "<li class=\"nav-item dropdown\">\n",
       "<button aria-expanded=\"false\" aria-haspopup=\"true\" class=\"menuitm nav-link dropdown-toggle\" data-bs-toggle=\"dropdown\" id=\"dropdownMenuLink\" role=\"button\">\n",
       "<p>\n",
       "\t\t\t\t\t\t\t\tLearn\n",
       "\t\t\t\t\t\t\t\t<i class=\"ws-icon ws-icon-down\"></i>\n",
       "</p>\n",
       "<span class=\"crta\"></span>\n",
       "</button>\n",
       "<ul aria-labelledby=\"dropdownMenuLink\" class=\"dropdown-menu\">\n",
       "<li>\n",
       "<a class=\"dropdown-item\" href=\"/documentation\">Documentation</a>\n",
       "</li>\n",
       "<li>\n",
       "<a class=\"dropdown-item\" href=\"/tutorials\">Video Tutorials</a>\n",
       "</li>\n",
       "<li>\n",
       "<a class=\"dropdown-item\" href=\"/test-sites\">Test Sites</a>\n",
       "</li>\n",
       "<li>\n",
       "<a class=\"dropdown-item\" href=\"https://forum.webscraper.io/\" rel=\"noopener\" target=\"_blank\">Forum</a>\n",
       "</li>\n",
       "</ul>\n",
       "</li>\n",
       "<li class=\"nav-item\">\n",
       "<a class=\"nav-link btn-menu1 install-extension\" href=\"https://chromewebstore.google.com/detail/web-scraper-free-web-scra/jnhgnonknehpejjnehehllkliplmbmhn?hl=en\" rel=\"noopener\" target=\"_blank\">\n",
       "<i aria-hidden=\"true\" class=\"browser-icon ws-icon ws-icon-chrome-500\"></i>\n",
       "\t\t\t\t\t\t\tInstall\n",
       "\t\t\t\t\t\t</a>\n",
       "</li>\n",
       "<li class=\"nav-item\">\n",
       "<a class=\"nav-link btn-menu2\" href=\"https://cloud.webscraper.io/\">Cloud Login</a>\n",
       "</li>\n",
       "</ul>\n",
       "</nav>\n",
       "</div>\n",
       "</div>\n",
       "</header>\n",
       "<div class=\"wrapper\">\n",
       "<div class=\"formenu-here container-fluid\">\n",
       "</div>\n",
       "<div class=\"container-fluid blog-hero\">\n",
       "<div class=\"container\">\n",
       "<div class=\"row\">\n",
       "<div class=\"col-lg-12\">\n",
       "<h1>Test Sites</h1>\n",
       "</div>\n",
       "</div>\n",
       "</div>\n",
       "</div>\n",
       "<div class=\"container\">\n",
       "<div class=\"test-site\">\n",
       "<div class=\"row\">\n",
       "<div class=\"col-lg-3 sidebar\">\n",
       "<div class=\"navbar-light sidebar\" role=\"navigation\">\n",
       "<div class=\"sidebar-nav navbar-collapse\">\n",
       "<ul class=\"nav flex-column tables-nav\" id=\"side-menu\">\n",
       "<li class=\"nav-item\">\n",
       "<a class=\"table-nav-button semantically-correct-button nav-link\" href=\"/test-sites/tables/tables-semantically-correct\">Semantically correct tables</a>\n",
       "</li>\n",
       "<li class=\"nav-item\">\n",
       "<a class=\"table-nav-button button-without-thead nav-link\" href=\"/test-sites/tables/tables-without-thead\">Tables without the thead tag</a>\n",
       "</li>\n",
       "<li class=\"nav-item\">\n",
       "<a class=\"table-nav-button button-multiple-headers nav-link active\" href=\"/test-sites/tables/tables-multiple-header-rows\">Tables with multiple header rows</a>\n",
       "</li>\n",
       "</ul>\n",
       "</div>\n",
       "</div>\n",
       "</div>\n",
       "<div class=\"col-lg-9\">\n",
       "<div class=\"tables-all\">\n",
       "<div class=\"jumbotron tables-initial-text\">\n",
       "<h2>Table playground</h2>\n",
       "<p class=\"lead\">\n",
       "\t\t\t\t\t\t\t\tYou can train using Table selector here.\n",
       "\t\t\t\t\t\t\t</p>\n",
       "</div>\n",
       "<div class=\"tables-multiple-header-rows\">\n",
       "<h2>Table with multiple header rows and an empty data row</h2>\n",
       "<p>\n",
       "\t\t\tYou must manually select header and data rows.\n",
       "\t\t</p>\n",
       "<table class=\"table table-bordered\">\n",
       "<tbody>\n",
       "<tr>\n",
       "<th></th>\n",
       "<th colspan=\"2\">Person</th>\n",
       "<th>User data</th>\n",
       "</tr>\n",
       "<tr>\n",
       "<th>#</th>\n",
       "<th>First Name</th>\n",
       "<th>Last Name</th>\n",
       "<th>Username</th>\n",
       "</tr>\n",
       "<tr>\n",
       "<td>-</td>\n",
       "<td>-</td>\n",
       "<td>-</td>\n",
       "<td>-</td>\n",
       "</tr>\n",
       "<tr>\n",
       "<td>1</td>\n",
       "<td>Mark</td>\n",
       "<td>Otto</td>\n",
       "<td>@mdo</td>\n",
       "</tr>\n",
       "<tr>\n",
       "<td>2</td>\n",
       "<td>Jacob</td>\n",
       "<td>Thornton</td>\n",
       "<td>@fat</td>\n",
       "</tr>\n",
       "<tr>\n",
       "<td>3</td>\n",
       "<td>Larry</td>\n",
       "<td>the Bird</td>\n",
       "<td>@twitter</td>\n",
       "</tr>\n",
       "</tbody>\n",
       "</table>\n",
       "</div>\n",
       "</div>\n",
       "</div>\n",
       "</div>\n",
       "</div>\n",
       "</div>\n",
       "<div class=\"clearfix\"></div>\n",
       "<div class=\"push\"></div>\n",
       "</div>\n",
       "<div class=\"container-fluid footer\" id=\"layout-footer\">\n",
       "<div class=\"container\">\n",
       "<div class=\"row\">\n",
       "<div class=\"col-lg-3\">\n",
       "<ul>\n",
       "<li><p>Products</p></li>\n",
       "<li>\n",
       "<a class=\"install-extension\" href=\"https://chromewebstore.google.com/detail/web-scraper-free-web-scra/jnhgnonknehpejjnehehllkliplmbmhn?hl=en\" rel=\"noopener\" target=\"_blank\">\n",
       "\t\t\t\t\t\t\tWeb Scraper browser extension\n",
       "\t\t\t\t\t\t</a>\n",
       "</li>\n",
       "<li>\n",
       "<a href=\"/cloud-scraper\">Web Scraper Cloud</a>\n",
       "</li>\n",
       "</ul>\n",
       "</div>\n",
       "<div class=\"col-lg-3\">\n",
       "<ul>\n",
       "<li><p>Company</p></li>\n",
       "<li>\n",
       "<a href=\"/about-us\">About us</a>\n",
       "</li>\n",
       "<li>\n",
       "<a href=\"/contact\">Contact</a>\n",
       "</li>\n",
       "<li>\n",
       "<a href=\"/privacy-policy\">Website Privacy Policy</a>\n",
       "</li>\n",
       "<li>\n",
       "<a href=\"/extension-privacy-policy\">Browser Extension Privacy Policy</a>\n",
       "</li>\n",
       "<li>\n",
       "<a href=\"https://webscraper.io/downloads/Web_Scraper_Media_Kit.zip\">Media kit</a>\n",
       "</li>\n",
       "<li><a href=\"/jobs\">Jobs</a></li>\n",
       "</ul>\n",
       "</div>\n",
       "<div class=\"col-lg-3\">\n",
       "<ul>\n",
       "<li><p>Resources</p></li>\n",
       "<li><a href=\"/blog\">Blog</a></li>\n",
       "<li>\n",
       "<a href=\"/documentation\">Documentation</a>\n",
       "</li>\n",
       "<li>\n",
       "<a href=\"/tutorials\">Video Tutorials</a>\n",
       "</li>\n",
       "<li>\n",
       "<a href=\"/screenshots\">Screenshots</a>\n",
       "</li>\n",
       "<li>\n",
       "<a href=\"/test-sites\">Test Sites</a>\n",
       "</li>\n",
       "<li>\n",
       "<a href=\"https://forum.webscraper.io/\" rel=\"noopener\" target=\"_blank\">Forum</a>\n",
       "</li>\n",
       "<li>\n",
       "<a href=\"https://status.webscraper.io/\" rel=\"noopener\" target=\"_blank\">Status</a>\n",
       "</li>\n",
       "</ul>\n",
       "</div>\n",
       "<div class=\"col-lg-3\">\n",
       "<ul>\n",
       "<li><p>CONTACT US</p></li>\n",
       "<li>\n",
       "<a href=\"mailto:info@webscraper.io\">info@webscraper.io</a>\n",
       "</li>\n",
       "<li>Ubelu 5-71,<br/> Adazi, Latvia, LV-2164</li>\n",
       "</ul>\n",
       "<ul class=\"smedia\">\n",
       "<li>\n",
       "<a aria-label=\"Web Scraper on Facebook\" href=\"https://www.facebook.com/webscraperio/\" rel=\"noopener\" target=\"_blank\">\n",
       "<i class=\"ws-icon ws-icon-facebook-f\"></i>\n",
       "</a>\n",
       "</li>\n",
       "<li>\n",
       "<a aria-label=\"Web Scraper on LinkedIn\" href=\"https://lv.linkedin.com/company/web-scraper\" rel=\"noopener\" target=\"_blank\">\n",
       "<i class=\"ws-icon ws-icon-linkedin\"></i>\n",
       "</a>\n",
       "</li>\n",
       "<li>\n",
       "<a aria-label=\"Web Scraper on Youtube\" href=\"https://youtube.com/@WebScraper/videos\" rel=\"noopener\" target=\"_blank\">\n",
       "<i class=\"ws-icon ws-icon-youtube\"></i>\n",
       "</a>\n",
       "</li>\n",
       "<li>\n",
       "<a aria-label=\"Download the Web Scraper extension\" class=\"install-extension browser-icon-dark\" href=\"https://chromewebstore.google.com/detail/web-scraper-free-web-scra/jnhgnonknehpejjnehehllkliplmbmhn?hl=en\" rel=\"noopener\" target=\"_blank\">\n",
       "<i class=\"browser-icon ws-icon ws-icon-chrome-dark\"></i>\n",
       "</a>\n",
       "</li>\n",
       "</ul>\n",
       "</div>\n",
       "</div>\n",
       "<div class=\"row\">\n",
       "<div class=\"col-lg-12\">\n",
       "<p class=\"copyright\">Copyright &amp;copy 2025\n",
       "\t\t\t\t\t<b>Web Scraper</b> | All rights reserved</p>\n",
       "</div>\n",
       "</div>\n",
       "</div>\n",
       "</div>\n",
       "</body>\n",
       "</html>"
      ]
     },
     "execution_count": 4,
     "metadata": {},
     "output_type": "execute_result"
    }
   ],
   "source": [
    "soup"
   ]
  },
  {
   "cell_type": "code",
   "execution_count": 5,
   "id": "0393a846-ac63-47c8-8e3d-d5af81efef84",
   "metadata": {},
   "outputs": [],
   "source": [
    "table=soup.find('table',class_=\"table table-bordered\")"
   ]
  },
  {
   "cell_type": "code",
   "execution_count": 6,
   "id": "c569c325-06f9-436f-b58d-cdf08f4e4558",
   "metadata": {},
   "outputs": [],
   "source": [
    "scrap_table=table.find_all('tr')"
   ]
  },
  {
   "cell_type": "code",
   "execution_count": 10,
   "id": "0af68e81-fc05-43b4-b551-5bd0759acb89",
   "metadata": {},
   "outputs": [],
   "source": [
    "headers = []\n",
    "for th in scrap_table[0].find_all('th'):\n",
    "    headers.append(th.get_text(strip=True))"
   ]
  },
  {
   "cell_type": "code",
   "execution_count": 11,
   "id": "692d20f6-e58f-4b52-8486-4ce10c1cfff0",
   "metadata": {},
   "outputs": [
    {
     "data": {
      "text/plain": [
       "['', 'Person', 'User data']"
      ]
     },
     "execution_count": 11,
     "metadata": {},
     "output_type": "execute_result"
    }
   ],
   "source": [
    "headers"
   ]
  },
  {
   "cell_type": "code",
   "execution_count": 13,
   "id": "38c901d3-3fa6-4d22-a5f4-bc2b0939bc0d",
   "metadata": {},
   "outputs": [],
   "source": [
    "if len(scrap_table) > 1 and scrap_table[1].find_all('th'):\n",
    "    sub_headers = [th.get_text(strip=True) for th in scrap_table[1].find_all('th')]\n",
    "    headers.extend(sub_headers)"
   ]
  },
  {
   "cell_type": "code",
   "execution_count": 19,
   "id": "93cfebb9-9a4c-4a19-94c8-ba658efc45e5",
   "metadata": {},
   "outputs": [
    {
     "ename": "NameError",
     "evalue": "name 'header_lines' is not defined",
     "output_type": "error",
     "traceback": [
      "\u001b[1;31m---------------------------------------------------------------------------\u001b[0m",
      "\u001b[1;31mNameError\u001b[0m                                 Traceback (most recent call last)",
      "Cell \u001b[1;32mIn[19], line 2\u001b[0m\n\u001b[0;32m      1\u001b[0m final_headers \u001b[38;5;241m=\u001b[39m []\n\u001b[1;32m----> 2\u001b[0m \u001b[38;5;28;01mfor\u001b[39;00m col_index \u001b[38;5;129;01min\u001b[39;00m \u001b[38;5;28mrange\u001b[39m(\u001b[38;5;28mlen\u001b[39m(header_lines[\u001b[38;5;241m-\u001b[39m\u001b[38;5;241m1\u001b[39m])):  \u001b[38;5;66;03m# use last header row length\u001b[39;00m\n\u001b[0;32m      3\u001b[0m     part1 \u001b[38;5;241m=\u001b[39m header_lines[\u001b[38;5;241m0\u001b[39m][col_index] \u001b[38;5;28;01mif\u001b[39;00m col_index \u001b[38;5;241m<\u001b[39m \u001b[38;5;28mlen\u001b[39m(header_lines[\u001b[38;5;241m0\u001b[39m]) \u001b[38;5;28;01melse\u001b[39;00m \u001b[38;5;124m\"\u001b[39m\u001b[38;5;124m\"\u001b[39m\n\u001b[0;32m      4\u001b[0m     part2 \u001b[38;5;241m=\u001b[39m header_lines[\u001b[38;5;241m1\u001b[39m][col_index] \u001b[38;5;28;01mif\u001b[39;00m col_index \u001b[38;5;241m<\u001b[39m \u001b[38;5;28mlen\u001b[39m(header_lines[\u001b[38;5;241m1\u001b[39m]) \u001b[38;5;28;01melse\u001b[39;00m \u001b[38;5;124m\"\u001b[39m\u001b[38;5;124m\"\u001b[39m\n",
      "\u001b[1;31mNameError\u001b[0m: name 'header_lines' is not defined"
     ]
    }
   ],
   "source": [
    "final_headers = []\n",
    "for col_index in range(len(header_lines[-1])):  # use last header row length\n",
    "    part1 = header_lines[0][col_index] if col_index < len(header_lines[0]) else \"\"\n",
    "    part2 = header_lines[1][col_index] if col_index < len(header_lines[1]) else \"\"\n",
    "    combined = f\"{part1} - {part2}\" if part1 and part2 and part1 != part2 else part1 or part2\n",
    "    final_headers.append(combined.strip(\" -\"))\n"
   ]
  },
  {
   "cell_type": "code",
   "execution_count": 14,
   "id": "3633b203-1d9a-4412-8fac-fd363ceb7a9b",
   "metadata": {},
   "outputs": [
    {
     "data": {
      "text/plain": [
       "['', 'Person', 'User data', '#', 'First Name', 'Last Name', 'Username']"
      ]
     },
     "execution_count": 14,
     "metadata": {},
     "output_type": "execute_result"
    }
   ],
   "source": [
    "headers"
   ]
  },
  {
   "cell_type": "code",
   "execution_count": 15,
   "id": "2f6fab58-716d-41a4-b6cd-4bb927cf1acf",
   "metadata": {},
   "outputs": [],
   "source": [
    "rows = []\n",
    "for tr in table.find_all('tr')[2:]:  # skip first 2 header rows\n",
    "    cells = [td.get_text(strip=True) for td in tr.find_all('td')]\n",
    "    rows.append(cells)"
   ]
  },
  {
   "cell_type": "code",
   "execution_count": 16,
   "id": "79f9b139-73e9-4155-986d-ff4a2974ec3c",
   "metadata": {},
   "outputs": [
    {
     "data": {
      "text/plain": [
       "[['-', '-', '-', '-'],\n",
       " ['1', 'Mark', 'Otto', '@mdo'],\n",
       " ['2', 'Jacob', 'Thornton', '@fat'],\n",
       " ['3', 'Larry', 'the Bird', '@twitter']]"
      ]
     },
     "execution_count": 16,
     "metadata": {},
     "output_type": "execute_result"
    }
   ],
   "source": [
    "rows"
   ]
  },
  {
   "cell_type": "code",
   "execution_count": 18,
   "id": "3a62010f-7bae-499f-ab80-d19bce87b919",
   "metadata": {},
   "outputs": [
    {
     "ename": "ValueError",
     "evalue": "7 columns passed, passed data had 4 columns",
     "output_type": "error",
     "traceback": [
      "\u001b[1;31m---------------------------------------------------------------------------\u001b[0m",
      "\u001b[1;31mAssertionError\u001b[0m                            Traceback (most recent call last)",
      "File \u001b[1;32m~\\anaconda3\\Lib\\site-packages\\pandas\\core\\internals\\construction.py:939\u001b[0m, in \u001b[0;36m_finalize_columns_and_data\u001b[1;34m(content, columns, dtype)\u001b[0m\n\u001b[0;32m    938\u001b[0m \u001b[38;5;28;01mtry\u001b[39;00m:\n\u001b[1;32m--> 939\u001b[0m     columns \u001b[38;5;241m=\u001b[39m _validate_or_indexify_columns(contents, columns)\n\u001b[0;32m    940\u001b[0m \u001b[38;5;28;01mexcept\u001b[39;00m \u001b[38;5;167;01mAssertionError\u001b[39;00m \u001b[38;5;28;01mas\u001b[39;00m err:\n\u001b[0;32m    941\u001b[0m     \u001b[38;5;66;03m# GH#26429 do not raise user-facing AssertionError\u001b[39;00m\n",
      "File \u001b[1;32m~\\anaconda3\\Lib\\site-packages\\pandas\\core\\internals\\construction.py:986\u001b[0m, in \u001b[0;36m_validate_or_indexify_columns\u001b[1;34m(content, columns)\u001b[0m\n\u001b[0;32m    984\u001b[0m \u001b[38;5;28;01mif\u001b[39;00m \u001b[38;5;129;01mnot\u001b[39;00m is_mi_list \u001b[38;5;129;01mand\u001b[39;00m \u001b[38;5;28mlen\u001b[39m(columns) \u001b[38;5;241m!=\u001b[39m \u001b[38;5;28mlen\u001b[39m(content):  \u001b[38;5;66;03m# pragma: no cover\u001b[39;00m\n\u001b[0;32m    985\u001b[0m     \u001b[38;5;66;03m# caller's responsibility to check for this...\u001b[39;00m\n\u001b[1;32m--> 986\u001b[0m     \u001b[38;5;28;01mraise\u001b[39;00m \u001b[38;5;167;01mAssertionError\u001b[39;00m(\n\u001b[0;32m    987\u001b[0m         \u001b[38;5;124mf\u001b[39m\u001b[38;5;124m\"\u001b[39m\u001b[38;5;132;01m{\u001b[39;00m\u001b[38;5;28mlen\u001b[39m(columns)\u001b[38;5;132;01m}\u001b[39;00m\u001b[38;5;124m columns passed, passed data had \u001b[39m\u001b[38;5;124m\"\u001b[39m\n\u001b[0;32m    988\u001b[0m         \u001b[38;5;124mf\u001b[39m\u001b[38;5;124m\"\u001b[39m\u001b[38;5;132;01m{\u001b[39;00m\u001b[38;5;28mlen\u001b[39m(content)\u001b[38;5;132;01m}\u001b[39;00m\u001b[38;5;124m columns\u001b[39m\u001b[38;5;124m\"\u001b[39m\n\u001b[0;32m    989\u001b[0m     )\n\u001b[0;32m    990\u001b[0m \u001b[38;5;28;01mif\u001b[39;00m is_mi_list:\n\u001b[0;32m    991\u001b[0m     \u001b[38;5;66;03m# check if nested list column, length of each sub-list should be equal\u001b[39;00m\n",
      "\u001b[1;31mAssertionError\u001b[0m: 7 columns passed, passed data had 4 columns",
      "\nThe above exception was the direct cause of the following exception:\n",
      "\u001b[1;31mValueError\u001b[0m                                Traceback (most recent call last)",
      "Cell \u001b[1;32mIn[18], line 1\u001b[0m\n\u001b[1;32m----> 1\u001b[0m df \u001b[38;5;241m=\u001b[39m pd\u001b[38;5;241m.\u001b[39mDataFrame(rows, columns\u001b[38;5;241m=\u001b[39mheaders)\n",
      "File \u001b[1;32m~\\anaconda3\\Lib\\site-packages\\pandas\\core\\frame.py:851\u001b[0m, in \u001b[0;36mDataFrame.__init__\u001b[1;34m(self, data, index, columns, dtype, copy)\u001b[0m\n\u001b[0;32m    849\u001b[0m     \u001b[38;5;28;01mif\u001b[39;00m columns \u001b[38;5;129;01mis\u001b[39;00m \u001b[38;5;129;01mnot\u001b[39;00m \u001b[38;5;28;01mNone\u001b[39;00m:\n\u001b[0;32m    850\u001b[0m         columns \u001b[38;5;241m=\u001b[39m ensure_index(columns)\n\u001b[1;32m--> 851\u001b[0m     arrays, columns, index \u001b[38;5;241m=\u001b[39m nested_data_to_arrays(\n\u001b[0;32m    852\u001b[0m         \u001b[38;5;66;03m# error: Argument 3 to \"nested_data_to_arrays\" has incompatible\u001b[39;00m\n\u001b[0;32m    853\u001b[0m         \u001b[38;5;66;03m# type \"Optional[Collection[Any]]\"; expected \"Optional[Index]\"\u001b[39;00m\n\u001b[0;32m    854\u001b[0m         data,\n\u001b[0;32m    855\u001b[0m         columns,\n\u001b[0;32m    856\u001b[0m         index,  \u001b[38;5;66;03m# type: ignore[arg-type]\u001b[39;00m\n\u001b[0;32m    857\u001b[0m         dtype,\n\u001b[0;32m    858\u001b[0m     )\n\u001b[0;32m    859\u001b[0m     mgr \u001b[38;5;241m=\u001b[39m arrays_to_mgr(\n\u001b[0;32m    860\u001b[0m         arrays,\n\u001b[0;32m    861\u001b[0m         columns,\n\u001b[1;32m   (...)\u001b[0m\n\u001b[0;32m    864\u001b[0m         typ\u001b[38;5;241m=\u001b[39mmanager,\n\u001b[0;32m    865\u001b[0m     )\n\u001b[0;32m    866\u001b[0m \u001b[38;5;28;01melse\u001b[39;00m:\n",
      "File \u001b[1;32m~\\anaconda3\\Lib\\site-packages\\pandas\\core\\internals\\construction.py:520\u001b[0m, in \u001b[0;36mnested_data_to_arrays\u001b[1;34m(data, columns, index, dtype)\u001b[0m\n\u001b[0;32m    517\u001b[0m \u001b[38;5;28;01mif\u001b[39;00m is_named_tuple(data[\u001b[38;5;241m0\u001b[39m]) \u001b[38;5;129;01mand\u001b[39;00m columns \u001b[38;5;129;01mis\u001b[39;00m \u001b[38;5;28;01mNone\u001b[39;00m:\n\u001b[0;32m    518\u001b[0m     columns \u001b[38;5;241m=\u001b[39m ensure_index(data[\u001b[38;5;241m0\u001b[39m]\u001b[38;5;241m.\u001b[39m_fields)\n\u001b[1;32m--> 520\u001b[0m arrays, columns \u001b[38;5;241m=\u001b[39m to_arrays(data, columns, dtype\u001b[38;5;241m=\u001b[39mdtype)\n\u001b[0;32m    521\u001b[0m columns \u001b[38;5;241m=\u001b[39m ensure_index(columns)\n\u001b[0;32m    523\u001b[0m \u001b[38;5;28;01mif\u001b[39;00m index \u001b[38;5;129;01mis\u001b[39;00m \u001b[38;5;28;01mNone\u001b[39;00m:\n",
      "File \u001b[1;32m~\\anaconda3\\Lib\\site-packages\\pandas\\core\\internals\\construction.py:845\u001b[0m, in \u001b[0;36mto_arrays\u001b[1;34m(data, columns, dtype)\u001b[0m\n\u001b[0;32m    842\u001b[0m     data \u001b[38;5;241m=\u001b[39m [\u001b[38;5;28mtuple\u001b[39m(x) \u001b[38;5;28;01mfor\u001b[39;00m x \u001b[38;5;129;01min\u001b[39;00m data]\n\u001b[0;32m    843\u001b[0m     arr \u001b[38;5;241m=\u001b[39m _list_to_arrays(data)\n\u001b[1;32m--> 845\u001b[0m content, columns \u001b[38;5;241m=\u001b[39m _finalize_columns_and_data(arr, columns, dtype)\n\u001b[0;32m    846\u001b[0m \u001b[38;5;28;01mreturn\u001b[39;00m content, columns\n",
      "File \u001b[1;32m~\\anaconda3\\Lib\\site-packages\\pandas\\core\\internals\\construction.py:942\u001b[0m, in \u001b[0;36m_finalize_columns_and_data\u001b[1;34m(content, columns, dtype)\u001b[0m\n\u001b[0;32m    939\u001b[0m     columns \u001b[38;5;241m=\u001b[39m _validate_or_indexify_columns(contents, columns)\n\u001b[0;32m    940\u001b[0m \u001b[38;5;28;01mexcept\u001b[39;00m \u001b[38;5;167;01mAssertionError\u001b[39;00m \u001b[38;5;28;01mas\u001b[39;00m err:\n\u001b[0;32m    941\u001b[0m     \u001b[38;5;66;03m# GH#26429 do not raise user-facing AssertionError\u001b[39;00m\n\u001b[1;32m--> 942\u001b[0m     \u001b[38;5;28;01mraise\u001b[39;00m \u001b[38;5;167;01mValueError\u001b[39;00m(err) \u001b[38;5;28;01mfrom\u001b[39;00m\u001b[38;5;250m \u001b[39m\u001b[38;5;21;01merr\u001b[39;00m\n\u001b[0;32m    944\u001b[0m \u001b[38;5;28;01mif\u001b[39;00m \u001b[38;5;28mlen\u001b[39m(contents) \u001b[38;5;129;01mand\u001b[39;00m contents[\u001b[38;5;241m0\u001b[39m]\u001b[38;5;241m.\u001b[39mdtype \u001b[38;5;241m==\u001b[39m np\u001b[38;5;241m.\u001b[39mobject_:\n\u001b[0;32m    945\u001b[0m     contents \u001b[38;5;241m=\u001b[39m convert_object_array(contents, dtype\u001b[38;5;241m=\u001b[39mdtype)\n",
      "\u001b[1;31mValueError\u001b[0m: 7 columns passed, passed data had 4 columns"
     ]
    }
   ],
   "source": [
    "df = pd.DataFrame(rows, columns=headers)"
   ]
  },
  {
   "cell_type": "code",
   "execution_count": null,
   "id": "becac931-bfc5-47d7-8667-757d1d1625db",
   "metadata": {},
   "outputs": [],
   "source": [
    "df"
   ]
  }
 ],
 "metadata": {
  "kernelspec": {
   "display_name": "Python [conda env:base] *",
   "language": "python",
   "name": "conda-base-py"
  },
  "language_info": {
   "codemirror_mode": {
    "name": "ipython",
    "version": 3
   },
   "file_extension": ".py",
   "mimetype": "text/x-python",
   "name": "python",
   "nbconvert_exporter": "python",
   "pygments_lexer": "ipython3",
   "version": "3.13.5"
  }
 },
 "nbformat": 4,
 "nbformat_minor": 5
}
