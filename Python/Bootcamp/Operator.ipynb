{
 "cells": [
  {
   "cell_type": "code",
   "execution_count": 5,
   "id": "86b10c94-ade6-447b-9293-333fba3c59b7",
   "metadata": {},
   "outputs": [],
   "source": [
    "inti=[1,2,3,4,6,7]"
   ]
  },
  {
   "cell_type": "code",
   "execution_count": 7,
   "id": "d32570a9-0e5d-425e-a1a8-8557e78e02ad",
   "metadata": {},
   "outputs": [
    {
     "name": "stdout",
     "output_type": "stream",
     "text": [
      "1\n",
      "2\n",
      "3\n",
      "4\n",
      "6\n",
      "7\n"
     ]
    }
   ],
   "source": [
    "for num in inti:\n",
    "    print(num)"
   ]
  },
  {
   "cell_type": "code",
   "execution_count": 9,
   "id": "68238ef3-6eed-43f1-a445-19769c361ae1",
   "metadata": {},
   "outputs": [
    {
     "name": "stdout",
     "output_type": "stream",
     "text": [
      "Yep 1\n",
      "Yep 2\n",
      "Yep 3\n",
      "Yep 4\n",
      "Yep 6\n",
      "Yep 7\n"
     ]
    }
   ],
   "source": [
    "for num in inti:\n",
    "    print('Yep',num)"
   ]
  },
  {
   "cell_type": "code",
   "execution_count": 10,
   "id": "81b71c75-9f53-4a5d-8344-6da45e644ac5",
   "metadata": {},
   "outputs": [
    {
     "name": "stdout",
     "output_type": "stream",
     "text": [
      "0\n",
      "2\n",
      "6\n",
      "12\n",
      "30\n",
      "42\n"
     ]
    }
   ],
   "source": [
    "for num in inti:\n",
    "    print(num*num-num)"
   ]
  },
  {
   "cell_type": "code",
   "execution_count": 12,
   "id": "3f8549b2-596d-48cd-8713-cb0400aeaa08",
   "metadata": {},
   "outputs": [],
   "source": [
    "#for loop in dict..\n",
    "\n",
    "ice_cream={'Name':'Ace','Weekly intake':7,'Favorite Ice Cream':['Vannila','Chocolate']}"
   ]
  },
  {
   "cell_type": "code",
   "execution_count": 13,
   "id": "83934e84-32e1-44ae-8890-03d70f5ae696",
   "metadata": {},
   "outputs": [
    {
     "name": "stdout",
     "output_type": "stream",
     "text": [
      "Ace\n",
      "7\n",
      "['Vannila', 'Chocolate']\n"
     ]
    }
   ],
   "source": [
    "for icecream in ice_cream.values():\n",
    "    print(icecream)"
   ]
  },
  {
   "cell_type": "code",
   "execution_count": 15,
   "id": "370ed7a1-e2ef-4e3d-9ae8-824cf3442c30",
   "metadata": {},
   "outputs": [
    {
     "name": "stdout",
     "output_type": "stream",
     "text": [
      "Name --> Ace\n",
      "Weekly intake --> 7\n",
      "Favorite Ice Cream --> ['Vannila', 'Chocolate']\n"
     ]
    }
   ],
   "source": [
    "for key,value in ice_cream.items():\n",
    "    print(key,'-->',value)"
   ]
  },
  {
   "cell_type": "markdown",
   "id": "5768279f-fed7-4663-b4af-1678b9287b2e",
   "metadata": {},
   "source": [
    "# Nested For Loop\n"
   ]
  },
  {
   "cell_type": "code",
   "execution_count": 2,
   "id": "9e078bc3-af84-46fe-9483-04b60c8df837",
   "metadata": {},
   "outputs": [],
   "source": [
    "flavor=['chocolate','Mango','Vanilla']\n",
    "toppings=['Hot fudge','Ores','Marshmallows']"
   ]
  },
  {
   "cell_type": "code",
   "execution_count": 3,
   "id": "eb632309-1897-4575-8173-5b9b85925a57",
   "metadata": {},
   "outputs": [
    {
     "name": "stdout",
     "output_type": "stream",
     "text": [
      "chocolate Topped with Hot fudge\n",
      "chocolate Topped with Ores\n",
      "chocolate Topped with Marshmallows\n",
      "Mango Topped with Hot fudge\n",
      "Mango Topped with Ores\n",
      "Mango Topped with Marshmallows\n",
      "Vanilla Topped with Hot fudge\n",
      "Vanilla Topped with Ores\n",
      "Vanilla Topped with Marshmallows\n"
     ]
    }
   ],
   "source": [
    "for flav in flavor:\n",
    "    for topp in toppings:\n",
    "        print(flav,'Topped with',topp)"
   ]
  },
  {
   "cell_type": "code",
   "execution_count": null,
   "id": "66ef1d50-1a2a-4768-a4c0-ae896f8f6452",
   "metadata": {},
   "outputs": [],
   "source": []
  },
  {
   "cell_type": "markdown",
   "id": "67021583-7d8e-4612-bf41-498d5fc3b13b",
   "metadata": {},
   "source": [
    "# While Loop"
   ]
  },
  {
   "cell_type": "code",
   "execution_count": 4,
   "id": "5c97d2bf-9958-401a-9662-dc7b27c3e325",
   "metadata": {},
   "outputs": [
    {
     "name": "stdout",
     "output_type": "stream",
     "text": [
      "2\n",
      "3\n",
      "4\n"
     ]
    }
   ],
   "source": [
    "num=2\n",
    "while num <5:\n",
    "    print(num)\n",
    "    num=num+1"
   ]
  },
  {
   "cell_type": "code",
   "execution_count": 1,
   "id": "6bcd5a01-30b7-46c8-982e-a33069ecd9e8",
   "metadata": {},
   "outputs": [
    {
     "name": "stdout",
     "output_type": "stream",
     "text": [
      "0\n",
      "1\n",
      "2\n",
      "3\n",
      "4\n",
      "No Longer < 5\n"
     ]
    }
   ],
   "source": [
    "\n",
    "num=0\n",
    "while num <5:\n",
    "    print(num)\n",
    "    if num==6:\n",
    "        break\n",
    "    num=num+1\n",
    "else:\n",
    "    print('No Longer < 5')\n",
    "    "
   ]
  },
  {
   "cell_type": "code",
   "execution_count": 2,
   "id": "84116e73-9d72-4201-8faf-1a0455169ada",
   "metadata": {},
   "outputs": [
    {
     "name": "stdout",
     "output_type": "stream",
     "text": [
      "1\n",
      "2\n",
      "4\n",
      "5\n",
      "No Longer < 5\n"
     ]
    }
   ],
   "source": [
    "\n",
    "num=0\n",
    "while num <5:\n",
    "    num=num+1\n",
    "    \n",
    "    if num==3:\n",
    "        continue\n",
    "    print(num)\n",
    "    \n",
    "else:\n",
    "    print('No Longer < 5')\n",
    "    "
   ]
  },
  {
   "cell_type": "code",
   "execution_count": null,
   "id": "c5be6269-639e-4aca-acdd-7f024b9b60bb",
   "metadata": {},
   "outputs": [],
   "source": []
  },
  {
   "cell_type": "code",
   "execution_count": null,
   "id": "4a3401cc-4aaf-4e4c-8936-49a16c8b8f9c",
   "metadata": {},
   "outputs": [],
   "source": []
  },
  {
   "cell_type": "code",
   "execution_count": null,
   "id": "0819f0fb-bf3b-4cc4-a4e8-9b81c8c3294c",
   "metadata": {},
   "outputs": [],
   "source": []
  },
  {
   "cell_type": "code",
   "execution_count": null,
   "id": "888b5109-6f4f-4212-99d1-d3bfa43a9761",
   "metadata": {},
   "outputs": [],
   "source": []
  }
 ],
 "metadata": {
  "kernelspec": {
   "display_name": "Python [conda env:base] *",
   "language": "python",
   "name": "conda-base-py"
  },
  "language_info": {
   "codemirror_mode": {
    "name": "ipython",
    "version": 3
   },
   "file_extension": ".py",
   "mimetype": "text/x-python",
   "name": "python",
   "nbconvert_exporter": "python",
   "pygments_lexer": "ipython3",
   "version": "3.13.5"
  }
 },
 "nbformat": 4,
 "nbformat_minor": 5
}
