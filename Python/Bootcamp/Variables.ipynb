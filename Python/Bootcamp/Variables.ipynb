{
 "cells": [
  {
   "cell_type": "code",
   "execution_count": 1,
   "id": "36675074-bf24-4254-89a6-5cbbe91971f8",
   "metadata": {},
   "outputs": [
    {
     "name": "stdout",
     "output_type": "stream",
     "text": [
      "22\n"
     ]
    }
   ],
   "source": [
    "x=22\n",
    "print (x)"
   ]
  },
  {
   "cell_type": "code",
   "execution_count": 4,
   "id": "62ccd351-35c7-4c55-ba9b-cc7293ba17d6",
   "metadata": {},
   "outputs": [
    {
     "name": "stdout",
     "output_type": "stream",
     "text": [
      "Ace\n"
     ]
    }
   ],
   "source": [
    "char='Ace'\n",
    "print(char)\n"
   ]
  },
  {
   "cell_type": "code",
   "execution_count": 5,
   "id": "81e898d3-583d-4b40-974a-dd8e147373df",
   "metadata": {},
   "outputs": [
    {
     "data": {
      "text/plain": [
       "str"
      ]
     },
     "execution_count": 5,
     "metadata": {},
     "output_type": "execute_result"
    }
   ],
   "source": [
    "type(char)"
   ]
  },
  {
   "cell_type": "code",
   "execution_count": 6,
   "id": "56830971-2114-4a24-a485-99447fdc1374",
   "metadata": {},
   "outputs": [],
   "source": [
    "char2= 'is cool.'"
   ]
  },
  {
   "cell_type": "code",
   "execution_count": 8,
   "id": "729307ec-5dd5-4b3c-944f-880eec9d9be2",
   "metadata": {},
   "outputs": [
    {
     "name": "stdout",
     "output_type": "stream",
     "text": [
      "Ace is cool\n"
     ]
    }
   ],
   "source": [
    "print(char+\" \"+char2)"
   ]
  },
  {
   "cell_type": "code",
   "execution_count": 12,
   "id": "769a0fc0-ce67-4454-a98e-45510a6a0866",
   "metadata": {},
   "outputs": [
    {
     "name": "stdout",
     "output_type": "stream",
     "text": [
      "[1, 2, 3]\n"
     ]
    }
   ],
   "source": [
    "#List\n",
    "a= [1 , 2 , 3 ]\n",
    "print(a)"
   ]
  },
  {
   "cell_type": "code",
   "execution_count": 18,
   "id": "593f9e06-b050-4c40-af85-2da727f3f07f",
   "metadata": {},
   "outputs": [
    {
     "data": {
      "text/plain": [
       "'12'"
      ]
     },
     "execution_count": 18,
     "metadata": {},
     "output_type": "execute_result"
    }
   ],
   "source": [
    "nest_list = ['ace',['12','34'],True,3]\n",
    "nest_list[1][0]"
   ]
  },
  {
   "cell_type": "code",
   "execution_count": 24,
   "id": "c2063bc8-6f17-4db8-8f7a-793f6dab0ac1",
   "metadata": {},
   "outputs": [
    {
     "data": {
      "text/plain": [
       "3"
      ]
     },
     "execution_count": 24,
     "metadata": {},
     "output_type": "execute_result"
    }
   ],
   "source": [
    "#Tuple\n",
    "tuples= (1,2,3,2,1)\n",
    "type(tuples)\n",
    "tuples[2]\n",
    "#tuples.append(3) can't be used in tuple"
   ]
  },
  {
   "cell_type": "code",
   "execution_count": 34,
   "id": "30d70503-fa19-4f6c-a9f4-cfe015181974",
   "metadata": {},
   "outputs": [
    {
     "name": "stdout",
     "output_type": "stream",
     "text": [
      "{1, 2, 3, 4, 5, 6, 7, 9}\n",
      "{1, 2, 3, 7}\n"
     ]
    }
   ],
   "source": [
    "#sets\n",
    "\n",
    "set1={1,2,3,4,5,6,7}\n",
    "set2={2,3,7,9,1}\n",
    "\n",
    "type(sets)\n",
    "\n",
    "orset=print(set1|set2)\n",
    "andset=print(set1&set2)\n",
    "\n",
    "#it works as normal maths sets....."
   ]
  },
  {
   "cell_type": "code",
   "execution_count": 37,
   "id": "72039ae9-aebf-42d6-8610-0fd2ea080389",
   "metadata": {},
   "outputs": [
    {
     "data": {
      "text/plain": [
       "dict"
      ]
     },
     "execution_count": 37,
     "metadata": {},
     "output_type": "execute_result"
    }
   ],
   "source": [
    "#dictionaries\n",
    "#key/value pair\n",
    "\n",
    "dict_cream={'name':'Ace Joshi','weekly intake':5,'Favorite icecream ':['MCC','Chocalate']}\n",
    "type(dict_cream)\n"
   ]
  },
  {
   "cell_type": "code",
   "execution_count": 38,
   "id": "112cb6f5-d10a-4907-8978-b1621c7c6006",
   "metadata": {},
   "outputs": [
    {
     "name": "stdout",
     "output_type": "stream",
     "text": [
      "{'name ': 'Ace Joshi', 'weekly intake': 5, 'Favorite icecream ': ['MCC', 'Chocalate']}\n"
     ]
    }
   ],
   "source": [
    "print(dict_cream)"
   ]
  },
  {
   "cell_type": "code",
   "execution_count": 39,
   "id": "51269560-680b-4c95-b98f-0396878be32c",
   "metadata": {},
   "outputs": [
    {
     "data": {
      "text/plain": [
       "dict_values(['Ace Joshi', 5, ['MCC', 'Chocalate']])"
      ]
     },
     "execution_count": 39,
     "metadata": {},
     "output_type": "execute_result"
    }
   ],
   "source": [
    "dict_cream.values()"
   ]
  },
  {
   "cell_type": "code",
   "execution_count": 41,
   "id": "6e1e7f65-ae99-451b-92f9-1219ad03a159",
   "metadata": {},
   "outputs": [
    {
     "data": {
      "text/plain": [
       "dict_keys(['name ', 'weekly intake', 'Favorite icecream '])"
      ]
     },
     "execution_count": 41,
     "metadata": {},
     "output_type": "execute_result"
    }
   ],
   "source": [
    "dict_cream.keys()"
   ]
  },
  {
   "cell_type": "code",
   "execution_count": 42,
   "id": "9afcb5b2-8262-4564-995a-7c7998adeb97",
   "metadata": {},
   "outputs": [
    {
     "data": {
      "text/plain": [
       "dict_items([('name ', 'Ace Joshi'), ('weekly intake', 5), ('Favorite icecream ', ['MCC', 'Chocalate'])])"
      ]
     },
     "execution_count": 42,
     "metadata": {},
     "output_type": "execute_result"
    }
   ],
   "source": [
    "dict_cream.items()"
   ]
  },
  {
   "cell_type": "code",
   "execution_count": 48,
   "id": "0f968054-59e0-4904-a8e5-9f608433ee54",
   "metadata": {},
   "outputs": [
    {
     "data": {
      "text/plain": [
       "'Ace Joshi'"
      ]
     },
     "execution_count": 48,
     "metadata": {},
     "output_type": "execute_result"
    }
   ],
   "source": [
    "dict_cream['name ']"
   ]
  },
  {
   "cell_type": "code",
   "execution_count": 50,
   "id": "d71de564-0dc9-4078-a4be-5a2cf68de53f",
   "metadata": {},
   "outputs": [
    {
     "name": "stdout",
     "output_type": "stream",
     "text": [
      "{'name ': 'Ace', 'weekly intake': 5, 'Favorite icecream ': ['MCC', 'Chocalate']}\n"
     ]
    }
   ],
   "source": [
    "dict_cream['name ']='Ace'\n",
    "print(dict_cream)\n"
   ]
  },
  {
   "cell_type": "code",
   "execution_count": 53,
   "id": "54529dad-9168-4a77-a46f-48f74100962d",
   "metadata": {},
   "outputs": [
    {
     "name": "stdout",
     "output_type": "stream",
     "text": [
      "{'name ': 'Ace', 'weekly intake': 10, 'Favorite icecream ': ['MCC', 'Chocalate'], 'JOB ': 'HR'}\n"
     ]
    }
   ],
   "source": [
    "dict_cream.update({'name ': 'Ace', 'weekly intake': 10, 'JOB ': 'HR'})\n",
    "print(dict_cream)"
   ]
  },
  {
   "cell_type": "code",
   "execution_count": 55,
   "id": "a73a44a4-fee5-4f74-9356-92c2c103bdce",
   "metadata": {},
   "outputs": [
    {
     "name": "stdout",
     "output_type": "stream",
     "text": [
      "{'name ': 'Ace', 'weekly intake': 10, 'Favorite icecream ': ['MCC', 'Chocalate']}\n"
     ]
    }
   ],
   "source": [
    "del dict_cream['JOB ']\n",
    "print(dict_cream)"
   ]
  },
  {
   "cell_type": "code",
   "execution_count": null,
   "id": "6267d2a7-8e99-43a1-b6c3-f84c54fbcb6c",
   "metadata": {},
   "outputs": [],
   "source": []
  },
  {
   "cell_type": "code",
   "execution_count": null,
   "id": "a46f4cc9-8a58-410b-83f3-95f37571dbfc",
   "metadata": {},
   "outputs": [],
   "source": []
  },
  {
   "cell_type": "code",
   "execution_count": null,
   "id": "0946b126-c7ac-4b1b-a0a0-e709c087046c",
   "metadata": {},
   "outputs": [],
   "source": []
  }
 ],
 "metadata": {
  "kernelspec": {
   "display_name": "Python [conda env:base] *",
   "language": "python",
   "name": "conda-base-py"
  },
  "language_info": {
   "codemirror_mode": {
    "name": "ipython",
    "version": 3
   },
   "file_extension": ".py",
   "mimetype": "text/x-python",
   "name": "python",
   "nbconvert_exporter": "python",
   "pygments_lexer": "ipython3",
   "version": "3.13.5"
  }
 },
 "nbformat": 4,
 "nbformat_minor": 5
}
